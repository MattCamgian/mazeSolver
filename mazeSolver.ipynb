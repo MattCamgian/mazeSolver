{
 "cells": [
  {
   "cell_type": "code",
   "execution_count": null,
   "metadata": {},
   "outputs": [],
   "source": [
    "!git clone https://github.com/MattCamgian/mazeSolver.git\n",
    "\n",
    "import sys\n",
    "sys.path.append(\"mazeSolver\")"
   ]
  },
  {
   "cell_type": "markdown",
   "metadata": {},
   "source": [
    "Solve with Expert System"
   ]
  },
  {
   "cell_type": "code",
   "execution_count": 2,
   "metadata": {},
   "outputs": [
    {
     "name": "stdout",
     "output_type": "stream",
     "text": [
      " -  -  -  -  -  -  -  -  -  -  -  -  - \n |  *        |                       | \n -  *  -     -     -  -  -  -  -     - \n |  *  |     |           |     |     | \n -  *  -     -  -  -     -     -     - \n |  *  |           |     |     |     | \n -  *  -  -  -     -     -     -     - \n |  *  |           |           |     | \n -  *  -  -  -     -  -  -  -  -     - \n |  *  *  *  |                 |     | \n -  -  -  *  -  -  -  -  -     -     - \n |  *  *  *  |           |     |     | \n -  *  -  -  -     -  -  -     -     - \n |  *  *  *  |     |           |     | \n -  -  -  *  -     -     -  -  -     - \n |  *  *  *  |                       | \n -  *  -  -  -  -  -  -  -  -  -  -  - \n |  *  *  *  |                       | \n -  X  -  *  -     -  -  -  -  -     - \n |  X  |  *  |     |  *  *  *  |     | \n -  -  -  *  -     -  *  -  *  -     - \n |  *  *  *  |     |  *  |  *  |     | \n -  *  -  -  -  -  -  *  -  *  -     - \n |  *  *  *  *  *  *  *  |  *  *  *  | \n -  -  -  -  -  -  -  -  -  -  -  -  - \n\n"
     ]
    }
   ],
   "source": [
    "import generator\n",
    "from printer import printMaze\n",
    "\n",
    "width = 6\n",
    "height = 12\n",
    "maze, start_x, start_y, end_x, end_y = generator.make_maze(width, height)\n",
    "\n",
    "def move(x,y):\n",
    "    maze[x][y] = 2\n",
    "\n",
    "    if x == end_x and y ==end_y:\n",
    "        return True\n",
    "\n",
    "    if maze[x + 1][y] == 0:\n",
    "        solved = move(x+1,y)\n",
    "        if solved:\n",
    "            return True\n",
    "    if maze[x - 1][y] == 0:\n",
    "        solved = move(x - 1, y)\n",
    "        if solved:\n",
    "            return True\n",
    "    if maze[x][y + 1] == 0:\n",
    "        solved = move(x,y + 1)\n",
    "        if solved:\n",
    "            return True\n",
    "    if maze[x][y-1] == 0:\n",
    "        solved = move(x,y-1)\n",
    "        if solved:\n",
    "            return True\n",
    "\n",
    "    maze[x][y] = 3\n",
    "    return False\n",
    "\n",
    "move(start_x,start_y)\n",
    "printMaze(maze)"
   ]
  },
  {
   "cell_type": "markdown",
   "metadata": {},
   "source": [
    "Solve with Learning Algorithm"
   ]
  },
  {
   "cell_type": "code",
   "execution_count": 1,
   "metadata": {},
   "outputs": [
    {
     "ename": "IndexError",
     "evalue": "index 7 is out of bounds for axis 0 with size 7",
     "traceback": [
      "\u001b[1;31m---------------------------------------------------------------------------\u001b[0m",
      "\u001b[1;31mIndexError\u001b[0m                                Traceback (most recent call last)",
      "\u001b[1;32m<ipython-input-1-8548d4f0e16b>\u001b[0m in \u001b[0;36m<module>\u001b[1;34m\u001b[0m\n\u001b[0;32m     80\u001b[0m \u001b[1;33m\u001b[0m\u001b[0m\n\u001b[0;32m     81\u001b[0m     \u001b[0maction\u001b[0m \u001b[1;33m=\u001b[0m \u001b[0mnp\u001b[0m\u001b[1;33m.\u001b[0m\u001b[0margmax\u001b[0m\u001b[1;33m(\u001b[0m\u001b[0mq_table\u001b[0m\u001b[1;33m[\u001b[0m\u001b[0mx\u001b[0m\u001b[1;33m]\u001b[0m\u001b[1;33m[\u001b[0m\u001b[0my\u001b[0m\u001b[1;33m]\u001b[0m\u001b[1;33m)\u001b[0m  \u001b[1;31m# Exploit learned values\u001b[0m\u001b[1;33m\u001b[0m\u001b[1;33m\u001b[0m\u001b[0m\n\u001b[1;32m---> 82\u001b[1;33m     \u001b[0mmaze\u001b[0m\u001b[1;33m[\u001b[0m\u001b[0mx\u001b[0m\u001b[1;33m]\u001b[0m\u001b[1;33m[\u001b[0m\u001b[0my\u001b[0m\u001b[1;33m]\u001b[0m \u001b[1;33m=\u001b[0m \u001b[1;36m2\u001b[0m\u001b[1;33m\u001b[0m\u001b[1;33m\u001b[0m\u001b[0m\n\u001b[0m\u001b[0;32m     83\u001b[0m \u001b[1;33m\u001b[0m\u001b[0m\n\u001b[0;32m     84\u001b[0m \u001b[1;33m\u001b[0m\u001b[0m\n",
      "\u001b[1;31mIndexError\u001b[0m: index 7 is out of bounds for axis 0 with size 7"
     ],
     "output_type": "error"
    }
   ],
   "source": [
    "import numpy as np\n",
    "import random\n",
    "\n",
    "import generator\n",
    "from printer import printMaze\n",
    "\n",
    "UP = 0\n",
    "DOWN = 1\n",
    "LEFT = 2\n",
    "RIGHT = 3\n",
    "\n",
    "width = 3\n",
    "height = 5\n",
    "\n",
    "epsilon = 0.4\n",
    "alpha = 0.1\n",
    "gamma = 0.6\n",
    "\n",
    "#setup the maze and the q-table\n",
    "maze, start_x, start_y, end_x, end_y = generator.make_maze(width, height)\n",
    "\n",
    "maze, start_x, start_y, end_x, end_y = generator.make_empty_env(width,height)\n",
    "\n",
    "q_table = generator.create_q_table(width, height, start_x, start_y, end_x, end_y)\n",
    "\n",
    "#perform q learning\n",
    "for iterations in range(0, 100000):\n",
    "    x = start_x\n",
    "    y = start_y\n",
    "    moves = 0\n",
    "\n",
    "    #go until we reach the end or make 50 moves\n",
    "    while not (x == end_x and y == end_y) and moves < 50:\n",
    "        moves += 1\n",
    "        if random.uniform(0, 1) < epsilon:\n",
    "            action = int(random.uniform(0, 3))\n",
    "        else:\n",
    "            action = np.argmax(q_table[x][y])  # Exploit learned values\n",
    "\n",
    "        if action == UP:\n",
    "            new_x = x\n",
    "            new_y = y -1\n",
    "        elif action == DOWN:\n",
    "            new_x = x\n",
    "            new_y = y + 1\n",
    "        elif action == LEFT:\n",
    "            new_x = x - 1\n",
    "            new_y = y\n",
    "        else:\n",
    "            new_x = x + 1\n",
    "            new_y = y\n",
    "\n",
    "        if new_y < 0 or new_y >= height * 2 + 1:\n",
    "            new_y = y\n",
    "\n",
    "        if new_x < 0 or new_x >= width * 2 + 1:\n",
    "            new_x = x\n",
    "\n",
    "        old_value = q_table[x][y][action]\n",
    "        next_max = np.max(q_table[new_x][new_y])\n",
    "\n",
    "        if new_x == end_x and new_y == end_y:\n",
    "            reward = 200\n",
    "        else:\n",
    "            reward = -1\n",
    "\n",
    "        new_value = (1 - alpha) * old_value + alpha * (reward + gamma * next_max)\n",
    "        q_table[x][y][action] = new_value\n",
    "\n",
    "        x = new_x\n",
    "        y = new_y\n",
    "\n",
    "\n",
    "\n",
    "\n",
    "#exploit the learned information to complete the maze and print the results\n",
    "x = start_x\n",
    "y = start_y\n",
    "while not (x == end_x and y == end_y):\n",
    "\n",
    "    action = np.argmax(q_table[x][y])  # Exploit learned values\n",
    "    maze[x][y] = 2\n",
    "\n",
    "\n",
    "    if action == UP:\n",
    "        new_x = x\n",
    "        new_y = y - 1\n",
    "    elif action == DOWN:\n",
    "        new_x = x\n",
    "        new_y = y + 1\n",
    "    elif action == LEFT:\n",
    "        new_x = x - 1\n",
    "        new_y = y\n",
    "    else:\n",
    "        new_x = x + 1\n",
    "        new_y = y\n",
    "\n",
    "    x = new_x\n",
    "    y = new_y\n",
    "\n",
    "maze[x][y] = 2\n",
    "printMaze(maze)"
   ]
  },
  {
   "cell_type": "code",
   "execution_count": null,
   "metadata": {},
   "outputs": [],
   "source": []
  }
 ],
 "metadata": {
  "kernelspec": {
   "display_name": "Python 3",
   "language": "python",
   "name": "python3"
  },
  "language_info": {
   "codemirror_mode": {
    "name": "ipython",
    "version": 3
   },
   "file_extension": ".py",
   "mimetype": "text/x-python",
   "name": "python",
   "nbconvert_exporter": "python",
   "pygments_lexer": "ipython3",
   "version": "3.7.1"
  }
 },
 "nbformat": 4,
 "nbformat_minor": 1
}
