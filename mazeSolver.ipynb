{
 "cells": [
  {
   "cell_type": "code",
   "execution_count": null,
   "metadata": {},
   "outputs": [],
   "source": [
    "!git clone https://github.com/MattCamgian/mazeSolver.git\n",
    "\n",
    "import sys\n",
    "sys.path.append(\"mazeSolver\")"
   ]
  },
  {
   "cell_type": "code",
   "execution_count": 2,
   "metadata": {},
   "outputs": [
    {
     "name": "stdout",
     "output_type": "stream",
     "text": [
      " -  -  -  -  -  -  -  -  -  -  -  -  - \n |  *        |                       | \n -  *  -  -  -     -  -  -     -     - \n |  *              |     |     |     | \n -  *  -  -  -  -  -     -     -  -  - \n |  *  *  *  |           |     |     | \n -  -  -  *  -     -     -     -     - \n |  *  *  *  |     |     |           | \n -  *  -  -  -  -  -     -  -  -  -  - \n |  *  *  *  *  *  |        *  *  *  | \n -  -  -  -  -  *  -  -  -  *  -  *  - \n |              *  *  *  *  *  |  *  | \n -  -  -  -  -  -  -  -  -  -  -  -  - \n\n"
     ]
    }
   ],
   "source": [
    "import generator\n",
    "from printer import printMaze\n",
    "\n",
    "width = 6\n",
    "height = 6\n",
    "maze, start_x, start_y, end_x, end_y = generator.make_maze(width, height)\n",
    "\n",
    "def move(x,y):\n",
    "    maze[x][y] = 2\n",
    "\n",
    "    if x == end_x and y ==end_y:\n",
    "        return True\n",
    "\n",
    "    if maze[x + 1][y] == 0:\n",
    "        solved = move(x+1,y)\n",
    "        if solved:\n",
    "            return True\n",
    "    if maze[x - 1][y] == 0:\n",
    "        solved = move(x - 1, y)\n",
    "        if solved:\n",
    "            return True\n",
    "    if maze[x][y + 1] == 0:\n",
    "        solved = move(x,y + 1)\n",
    "        if solved:\n",
    "            return True\n",
    "    if maze[x][y-1] == 0:\n",
    "        solved = move(x,y-1)\n",
    "        if solved:\n",
    "            return True\n",
    "\n",
    "    maze[x][y] = 3\n",
    "    return False\n",
    "\n",
    "move(start_x,start_y)\n",
    "printMaze(maze)"
   ]
  },
  {
   "cell_type": "code",
   "execution_count": 2,
   "metadata": {},
   "outputs": [],
   "source": []
  },
  {
   "cell_type": "code",
   "execution_count": 3,
   "metadata": {},
   "outputs": [],
   "source": []
  },
  {
   "cell_type": "code",
   "execution_count": null,
   "metadata": {},
   "outputs": [],
   "source": []
  }
 ],
 "metadata": {
  "kernelspec": {
   "display_name": "Python 3",
   "language": "python",
   "name": "python3"
  },
  "language_info": {
   "codemirror_mode": {
    "name": "ipython",
    "version": 3
   },
   "file_extension": ".py",
   "mimetype": "text/x-python",
   "name": "python",
   "nbconvert_exporter": "python",
   "pygments_lexer": "ipython3",
   "version": "3.7.1"
  }
 },
 "nbformat": 4,
 "nbformat_minor": 1
}
